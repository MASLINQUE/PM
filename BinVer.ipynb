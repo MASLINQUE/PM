{
  "nbformat": 4,
  "nbformat_minor": 0,
  "metadata": {
    "kernelspec": {
      "display_name": "Python 3",
      "language": "python",
      "name": "python3"
    },
    "language_info": {
      "codemirror_mode": {
        "name": "ipython",
        "version": 3
      },
      "file_extension": ".py",
      "mimetype": "text/x-python",
      "name": "python",
      "nbconvert_exporter": "python",
      "pygments_lexer": "ipython3",
      "version": "3.8.3"
    },
    "colab": {
      "name": "Try_Keras.ipynb",
      "provenance": [],
      "collapsed_sections": []
    }
  },
  "cells": [
     {
      "cell_type": "code",
      "metadata": {
        "colab": {
          "base_uri": "https://localhost:8080/"
        },
        "id": "j_iw-4J8UHJI",
        "outputId": "bae095e0-25e6-4163-c039-0e6c7e3e47bb"
      },
      "source": [
        "from google.colab import drive\r\n",
        "drive.mount('/content/drive')\r\n",
        "# !pip install --upgrade --force-reinstall `cat /content/gdrive/My\\ Drive/colab_installed.txt`\r\n",
        "\r\n",
        "#Подключение Google Drive, заккоментированная строка устанавливает (или обновляет) использованные библиотеки из файла .txt)"
      ],
      "execution_count": 26,
      "outputs": [
        {
          "output_type": "stream",
          "text": [
            "Drive already mounted at /content/drive; to attempt to forcibly remount, call drive.mount(\"/content/drive\", force_remount=True).\n"
          ],
          "name": "stdout"
        }
      ]
    },
    {
      "cell_type": "code",
      "metadata": {
        "id": "l4c1OnJpv_dU"
      },
      "source": [
        "# !pip freeze --local > /content/drive/MyDrive/colab_installed.txt # Записать все используемые библиотеки в текстовый файл"
      ],
      "execution_count": null,
      "outputs": []
    },
    {
      "cell_type": "code",
      "metadata": {
        "id": "6Vb3wt_oSHrB"
      },
      "source": [
        "import tensorflow as tf\n",
        "from tensorflow import keras\n",
        "from tensorflow.keras import layers\n",
        "import numpy as np\n",
        "from keras.models import Sequential, Model\n",
        "from keras.layers import Dense, Conv2D, Flatten, Activation, Dropout\n",
        "from keras import applications, optimizers\n",
        "import os\n",
        "import wget\n",
        "import pandas as pd\n",
        "import os.path\n",
        "import random as rd\n",
        "import matplotlib.pyplot as plt\n"
      ],
      "execution_count": 2,
      "outputs": []
    },
   ,
    {
      "cell_type": "code",
      "metadata": {
        "id": "bgcUEqnrUmvc"
      },
      "source": [
        "main_path = './drive/MyDrive/ColabNotebooks/' # В данном месте нужно вписать абсолютный путь к проекту, я использовал Google Colab"
      ],
      "execution_count": 57,
      "outputs": []
    },
    {
      "cell_type": "code",
      "metadata": {
        "id": "6CcgQLazSHrJ"
      },
      "source": [
        "class Make_data: #Класс, который скачивает файлы по ссылкам из csv файла, удаляет повреждённые файлы, создаёт папки для Train, Validation и Test и разделяет данные по этим папкам\n",
        "\n",
        "  def __init__(self, main_path, folders, train_folder, testval_folder, classes, class_csv):\n",
        "    self.main_path = main_path\n",
        "    self.train_folder = train_folder\n",
        "    self.testval_folder = testval_folder\n",
        "    self.classes = classes \n",
        "    self.folders = folders\n",
        "    self.csv = class_csv\n",
        "                \n",
        "  def download_data(self):\n",
        "    for i in range(2):\n",
        "      data_class = pd.read_csv(self.main_path + self.csv[i],encoding='ascii', header=None)\n",
        "      for j in range(len(data_class)):\n",
        "        wget.download(data_class[0][j], self.main_path + self.train_folder + self.classes[i] + '/')\n",
        "\n",
        "  def make_dir(self):\n",
        "      for folders in self.folders:\n",
        "        for classe in self.classes:\n",
        "          if folders == 'Test/':\n",
        "            os.makedirs(self.main_path + folders + classe + '/' + classe)\n",
        "          else: \n",
        "            os.makedirs(self.main_path + folders + classe)\n",
        "\n",
        "  def divide_data(self):\n",
        "      for folder in self.testval_folder:\n",
        "        for classe in self.classes:\n",
        "          # print(folder + '111')\n",
        "          class_path = []\n",
        "          class_name = []\n",
        "          basepath = self.main_path + self.train_folder + classe\n",
        "          # print(basepath)\n",
        "          with os.scandir(basepath) as entries:\n",
        "            for entry in entries:\n",
        "                if entry.is_file():\n",
        "                    class_path.append(entry.path)\n",
        "                    class_name.append(entry.name)\n",
        "          rd.seed(1)\n",
        "          random_index = rd.sample(range(len(class_path)), int(len(class_path)*0.1))\n",
        "          for i in random_index:\n",
        "            os.rename(class_path[i], self.main_path + folder + classe + '/' + class_name[i])\n",
        " \n",
        "  def filter_data (self):\n",
        "      num_skipped = 0\n",
        "      for folder_name in self.classes:\n",
        "          folder_path = self.main_path + self.train_folder + folder_name\n",
        "          for fname in os.listdir(folder_path):\n",
        "              fpath = os.path.join(folder_path, fname)\n",
        "              if os.path.isfile(fpath):\n",
        "                  try:\n",
        "                      fobj = open(fpath, \"rb\")\n",
        "                      is_jfif = tf.compat.as_bytes(\"JFIF\") in fobj.peek(10)\n",
        "                  finally:\n",
        "                      fobj.close()\n",
        "\n",
        "                  if not is_jfif:\n",
        "                      num_skipped += 1\n",
        "                      os.remove(fpath)\n",
        "\n",
        "      print(\"Deleted %d images\" % num_skipped)\n",
        "\n",
        "    "
      ],
      "execution_count": 60,
      "outputs": []
    },
    {
      "cell_type": "code",
      "metadata": {
        "id": "TzjmdM8vSHrK",
        "colab": {
          "base_uri": "https://localhost:8080/"
        },
        "outputId": "50bb0b40-3c52-4317-f267-44136c654d57"
      },
      "source": [
        "md = Make_data(main_path, ['Train/','Val/', 'Test/'], 'Train/', ['Val/', 'Test/'], ['Georges', 'Non_Georges'], ['georges.csv', 'non_georges.csv'])\r\n",
        "md.make_dir()\r\n",
        "md.download_data()\r\n",
        "md.filter_data()\r\n",
        "md.divide_data()\r\n",
        "del md\r\n",
        "#Создаём класс, входные переменные оставляем такие же, после махинаций, класс удаляется"
      ],
      "execution_count": 61,
      "outputs": [
        {
          "output_type": "stream",
          "text": [
            "Deleted 3 images\n"
          ],
          "name": "stdout"
        }
      ]
    },
    {
      "cell_type": "code",
      "metadata": {
        "id": "g0qBbd4ASHrN",
        "colab": {
          "base_uri": "https://localhost:8080/"
        },
        "outputId": "085d7b81-b670-49db-d5f3-06007361fce0"
      },
      "source": [
        "image_size = (180, 180)\n",
        "batch_size = 32\n",
        "\n",
        "train_ds = tf.keras.preprocessing.image_dataset_from_directory(\n",
        "    main_path + \"Train\",\n",
        "    labels=\"inferred\",\n",
        "    class_names = [\"Georges\", \"Non_Georges\"],\n",
        "    validation_split=0.2,\n",
        "    subset=\"training\",\n",
        "    seed=1337,\n",
        "    image_size=image_size,\n",
        "    batch_size=batch_size,\n",
        ")\n",
        "val_ds = tf.keras.preprocessing.image_dataset_from_directory(\n",
        "    main_path + \"Val\",\n",
        "    labels=\"inferred\",\n",
        "    class_names = [\"Georges\", \"Non_Georges\"],\n",
        "    validation_split=0.4,\n",
        "    subset=\"validation\",\n",
        "    seed=1337,\n",
        "    image_size=image_size,\n",
        "    batch_size=batch_size,\n",
        ")\n",
        "\n",
        "#Создаём два объекта которые содержат в себе данные для обучения и валидации"
      ],
      "execution_count": 4,
      "outputs": [
        {
          "output_type": "stream",
          "text": [
            "Found 1379 files belonging to 2 classes.\n",
            "Using 1104 files for training.\n",
            "Found 377 files belonging to 2 classes.\n",
            "Using 150 files for validation.\n"
          ],
          "name": "stdout"
        }
      ]
    },
    {
      "cell_type": "code",
      "metadata": {
        "id": "Als6FJybSHrP"
      },
      "source": [
        "data_augmentation = keras.Sequential(\n",
        "    [\n",
        "        layers.experimental.preprocessing.RandomFlip(\"horizontal_and_vertical\", seed = 1337),\n",
        "        layers.experimental.preprocessing.RandomRotation(0.1, seed = 1337),\n",
        "        layers.experimental.preprocessing.Normalization(axis=-1)\n",
        "    ]\n",
        ")\n",
        "#Расширим датасет с помощью аугментации данных"
      ],
      "execution_count": 63,
      "outputs": []
    },
    {
      "cell_type": "code",
      "metadata": {
        "id": "dzmDL00USHrP"
      },
      "source": [
        "augmented_train_ds = train_ds.map(\n",
        "  lambda x, y: (data_augmentation(x, training=True), y))"
      ],
      "execution_count": 10,
      "outputs": []
    },
    {
      "cell_type": "code",
      "metadata": {
        "id": "hEWsn0y9SHrQ"
      },
      "source": [
        "AUTOTUNE = tf.data.AUTOTUNE\n",
        "train_ds = train_ds.shuffle(1000, 1337).prefetch(buffer_size=AUTOTUNE)\n",
        "val_ds = val_ds.prefetch(buffer_size=AUTOTUNE)\n",
        "#Используем предварительную выборку, где количество потребляем пакетов за один шаг обучения настраивается динамически"
      ],
      "execution_count": 11,
      "outputs": []
    },
    {
      "cell_type": "code",
      "metadata": {
        "id": "5_FpI46WSHrV"
      },
      "source": [
        "def make_model(input_shape, num_classes):\n",
        "    inputs = keras.Input(shape=input_shape)\n",
        "    \n",
        "    x = data_augmentation(inputs)\n",
        "\n",
        "    # Entry block\n",
        "    x = layers.experimental.preprocessing.Rescaling(1.0 / 255)(x)\n",
        "    x = layers.Conv2D(32, 3, strides=2, padding=\"same\")(x)\n",
        "    x = layers.BatchNormalization()(x)\n",
        "    x = layers.Activation(\"relu\")(x)\n",
        "\n",
        "    x = layers.Conv2D(64, 3, padding=\"same\")(x)\n",
        "    x = layers.BatchNormalization()(x)\n",
        "    x = layers.Activation(\"relu\")(x)\n",
        "\n",
        "    previous_block_activation = x  # Set aside residual\n",
        "\n",
        "    for size in [128, 256, 512, 728]:\n",
        "        x = layers.Activation(\"relu\")(x)\n",
        "        x = layers.SeparableConv2D(size, 3, padding=\"same\")(x)\n",
        "        x = layers.BatchNormalization()(x)\n",
        "\n",
        "        x = layers.Activation(\"relu\")(x)\n",
        "        x = layers.SeparableConv2D(size, 3, padding=\"same\")(x)\n",
        "        x = layers.BatchNormalization()(x)\n",
        "\n",
        "        x = layers.MaxPooling2D(3, strides=2, padding=\"same\")(x)\n",
        "\n",
        "        # Project residual\n",
        "        residual = layers.Conv2D(size, 1, strides=2, padding=\"same\")(\n",
        "            previous_block_activation\n",
        "        )\n",
        "        x = layers.add([x, residual])  # Add back residual\n",
        "        previous_block_activation = x  # Set aside next residual\n",
        "\n",
        "    x = layers.SeparableConv2D(1024, 3, padding=\"same\")(x)\n",
        "    x = layers.BatchNormalization()(x)\n",
        "    x = layers.Activation(\"relu\")(x)\n",
        "\n",
        "    x = layers.GlobalAveragePooling2D()(x)\n",
        "    activation = \"sigmoid\"\n",
        "    units = 1\n",
        "\n",
        "    tf.random.set_seed(1337)\n",
        "    x = layers.Dropout(0.5)(x)\n",
        "    outputs = layers.Dense(units, activation=activation)(x)\n",
        "    return keras.Model(inputs, outputs)\n",
        "\n",
        "\n",
        "model = make_model(input_shape=image_size + (3,), num_classes=2)\n",
        "\n",
        "#Строим модель"
      ],
      "execution_count": 17,
      "outputs": []
    },
    {
      "cell_type": "code",
      "metadata": {
        "id": "lnG7ZaJoSHrV",
        "colab": {
          "base_uri": "https://localhost:8080/"
        },
        "outputId": "1de72d2a-5ce9-4d78-d33b-7cd976858e51"
      },
      "source": [
        "epochs = 30\n",
        "\n",
        "callbacks = [\n",
        "    keras.callbacks.ModelCheckpoint(\"save_at_{epoch}.h5\"),\n",
        "]\n",
        "model.compile(\n",
        "    optimizer=keras.optimizers.Adam(1e-3),\n",
        "    loss=\"binary_crossentropy\",\n",
        "    metrics=[\"accuracy\"],\n",
        ")\n",
        "history = model.fit(\n",
        "    train_ds, epochs=epochs, callbacks=callbacks, validation_data=val_ds)\n",
        "model.save(main_path + 'Model')"
      ],
      "execution_count": 18,
      "outputs": [
        {
          "output_type": "stream",
          "text": [
            "Epoch 1/30\n",
            "35/35 [==============================] - 244s 7s/step - loss: 0.8570 - accuracy: 0.5632 - val_loss: 0.6841 - val_accuracy: 0.5867\n",
            "Epoch 2/30\n",
            "35/35 [==============================] - 241s 7s/step - loss: 0.6349 - accuracy: 0.6672 - val_loss: 0.6713 - val_accuracy: 0.5867\n",
            "Epoch 3/30\n",
            "35/35 [==============================] - 241s 7s/step - loss: 0.6464 - accuracy: 0.6522 - val_loss: 0.6739 - val_accuracy: 0.5867\n",
            "Epoch 4/30\n",
            "35/35 [==============================] - 241s 7s/step - loss: 0.6237 - accuracy: 0.6719 - val_loss: 0.6854 - val_accuracy: 0.5867\n",
            "Epoch 5/30\n",
            "35/35 [==============================] - 241s 7s/step - loss: 0.6240 - accuracy: 0.6812 - val_loss: 0.7066 - val_accuracy: 0.5867\n",
            "Epoch 6/30\n",
            "35/35 [==============================] - 242s 7s/step - loss: 0.6201 - accuracy: 0.6750 - val_loss: 0.7391 - val_accuracy: 0.5867\n",
            "Epoch 7/30\n",
            "35/35 [==============================] - 241s 7s/step - loss: 0.6047 - accuracy: 0.6968 - val_loss: 0.7774 - val_accuracy: 0.5867\n",
            "Epoch 8/30\n",
            "35/35 [==============================] - 242s 7s/step - loss: 0.6193 - accuracy: 0.6906 - val_loss: 0.7956 - val_accuracy: 0.5867\n",
            "Epoch 9/30\n",
            "35/35 [==============================] - 242s 7s/step - loss: 0.5710 - accuracy: 0.7174 - val_loss: 0.8482 - val_accuracy: 0.5867\n",
            "Epoch 10/30\n",
            "35/35 [==============================] - 243s 7s/step - loss: 0.5823 - accuracy: 0.7063 - val_loss: 0.9318 - val_accuracy: 0.5867\n",
            "Epoch 11/30\n",
            "35/35 [==============================] - 244s 7s/step - loss: 0.5254 - accuracy: 0.7601 - val_loss: 0.8210 - val_accuracy: 0.5867\n",
            "Epoch 12/30\n",
            "35/35 [==============================] - 244s 7s/step - loss: 0.6033 - accuracy: 0.7039 - val_loss: 0.9224 - val_accuracy: 0.5867\n",
            "Epoch 13/30\n",
            "35/35 [==============================] - 241s 7s/step - loss: 0.5607 - accuracy: 0.7144 - val_loss: 0.7494 - val_accuracy: 0.5933\n",
            "Epoch 14/30\n",
            "35/35 [==============================] - 243s 7s/step - loss: 0.5252 - accuracy: 0.7432 - val_loss: 0.6686 - val_accuracy: 0.6200\n",
            "Epoch 15/30\n",
            "35/35 [==============================] - 242s 7s/step - loss: 0.5170 - accuracy: 0.7584 - val_loss: 0.7845 - val_accuracy: 0.5933\n",
            "Epoch 16/30\n",
            "35/35 [==============================] - 242s 7s/step - loss: 0.5375 - accuracy: 0.7540 - val_loss: 0.5675 - val_accuracy: 0.7000\n",
            "Epoch 17/30\n",
            "35/35 [==============================] - 242s 7s/step - loss: 0.5289 - accuracy: 0.7316 - val_loss: 0.6122 - val_accuracy: 0.6867\n",
            "Epoch 18/30\n",
            "35/35 [==============================] - 242s 7s/step - loss: 0.4877 - accuracy: 0.7753 - val_loss: 0.6968 - val_accuracy: 0.6667\n",
            "Epoch 19/30\n",
            "35/35 [==============================] - 242s 7s/step - loss: 0.5070 - accuracy: 0.7697 - val_loss: 0.8935 - val_accuracy: 0.6133\n",
            "Epoch 20/30\n",
            "35/35 [==============================] - 241s 7s/step - loss: 0.5231 - accuracy: 0.7676 - val_loss: 0.6919 - val_accuracy: 0.6600\n",
            "Epoch 21/30\n",
            "35/35 [==============================] - 242s 7s/step - loss: 0.4797 - accuracy: 0.7726 - val_loss: 0.5717 - val_accuracy: 0.7000\n",
            "Epoch 22/30\n",
            "35/35 [==============================] - 243s 7s/step - loss: 0.5249 - accuracy: 0.7470 - val_loss: 0.8457 - val_accuracy: 0.6333\n",
            "Epoch 23/30\n",
            "35/35 [==============================] - 241s 7s/step - loss: 0.4944 - accuracy: 0.7762 - val_loss: 0.6169 - val_accuracy: 0.7000\n",
            "Epoch 24/30\n",
            "35/35 [==============================] - 241s 7s/step - loss: 0.4871 - accuracy: 0.7660 - val_loss: 0.8345 - val_accuracy: 0.5933\n",
            "Epoch 25/30\n",
            "35/35 [==============================] - 241s 7s/step - loss: 0.4862 - accuracy: 0.7789 - val_loss: 0.5653 - val_accuracy: 0.6933\n",
            "Epoch 26/30\n",
            "35/35 [==============================] - 241s 7s/step - loss: 0.4577 - accuracy: 0.7906 - val_loss: 0.8027 - val_accuracy: 0.6333\n",
            "Epoch 27/30\n",
            "35/35 [==============================] - 241s 7s/step - loss: 0.4924 - accuracy: 0.7784 - val_loss: 0.6798 - val_accuracy: 0.6667\n",
            "Epoch 28/30\n",
            "35/35 [==============================] - 242s 7s/step - loss: 0.4993 - accuracy: 0.7548 - val_loss: 0.5831 - val_accuracy: 0.6933\n",
            "Epoch 29/30\n",
            "35/35 [==============================] - 241s 7s/step - loss: 0.4500 - accuracy: 0.8016 - val_loss: 0.6530 - val_accuracy: 0.7333\n",
            "Epoch 30/30\n",
            "35/35 [==============================] - 241s 7s/step - loss: 0.4540 - accuracy: 0.7903 - val_loss: 0.6440 - val_accuracy: 0.6800\n",
            "INFO:tensorflow:Assets written to: ./drive/MyDrive/ColabNotebooks/Model/assets\n"
          ],
          "name": "stdout"
        }
      ]
    },
    {
      "cell_type": "code",
      "metadata": {
        "colab": {
          "base_uri": "https://localhost:8080/",
          "height": 499
        },
        "id": "lzh6GpZjlbRJ",
        "outputId": "092ba397-0bad-489d-daa5-beb7d1ac6128"
      },
      "source": [
        "acc = history.history['accuracy']\r\n",
        "val_acc = history.history['val_accuracy']\r\n",
        "\r\n",
        "loss = history.history['loss']\r\n",
        "val_loss = history.history['val_loss']\r\n",
        "\r\n",
        "epochs_range = range(epochs)\r\n",
        "\r\n",
        "plt.figure(figsize=(8, 8))\r\n",
        "plt.subplot(1, 2, 1)\r\n",
        "plt.plot(epochs_range, acc, label='Training Accuracy')\r\n",
        "plt.plot(epochs_range, val_acc, label='Validation Accuracy')\r\n",
        "plt.legend(loc='lower right')\r\n",
        "plt.title('Training and Validation Accuracy')\r\n",
        "\r\n",
        "plt.subplot(1, 2, 2)\r\n",
        "plt.plot(epochs_range, loss, label='Training Loss')\r\n",
        "plt.plot(epochs_range, val_loss, label='Validation Loss')\r\n",
        "plt.legend(loc='upper right')\r\n",
        "plt.title('Training and Validation Loss')\r\n",
        "plt.show()"
      ],
      "execution_count": 20,
      "outputs": [
        {
          "output_type": "display_data",
          "data": {
            "image/png": "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\n",
            "text/plain": [
              "<Figure size 576x576 with 2 Axes>"
            ]
          },
          "metadata": {
            "tags": [],
            "needs_background": "light"
          }
        }
      ]
    },
    {
      "cell_type": "code",
      "metadata": {
        "colab": {
          "base_uri": "https://localhost:8080/"
        },
        "id": "KXLFg4x5CSss",
        "outputId": "6712c13e-b68b-4afe-8754-ddc09fc1a911"
      },
      "source": [
        "test = tf.keras.preprocessing.image_dataset_from_directory(\r\n",
        "    main_path + \"Test/Test_Georges\",\r\n",
        "    labels=\"inferred\",\r\n",
        "    class_names = [\"Georges\"],\r\n",
        "    seed=1337,\r\n",
        "    image_size=image_size,\r\n",
        "    batch_size=batch_size,\r\n",
        ")"
      ],
      "execution_count": 38,
      "outputs": [
        {
          "output_type": "stream",
          "text": [
            "Found 298 files belonging to 1 classes.\n"
          ],
          "name": "stdout"
        }
      ]
    },
    {
      "cell_type": "code",
      "metadata": {
        "id": "LQdzY9ihC4Y9"
      },
      "source": [
        "predT = model.predict(test)\r\n"
      ],
      "execution_count": 39,
      "outputs": []
    },
    {
      "cell_type": "code",
      "metadata": {
        "colab": {
          "base_uri": "https://localhost:8080/"
        },
        "id": "P_YZF_Vytav6",
        "outputId": "c71f5636-c697-4fd4-c070-06525031fa00"
      },
      "source": [
        "path, dirs, files = next(os.walk(main_path + 'Test/Test_Georges/Georges'))\r\n",
        "file_count = len(files)\r\n",
        "sum=0\r\n",
        "for pred in predT:\r\n",
        "  if pred[0] < 0.5:\r\n",
        "    sum+=1\r\n",
        "print(sum/file_count)\r\n",
        "\r\n",
        "#Проверим обученную модель на тестовых данных, где мы определяем Георгий ли на картинке"
      ],
      "execution_count": 54,
      "outputs": [
        {
          "output_type": "stream",
          "text": [
            "0.8053691275167785\n"
          ],
          "name": "stdout"
        }
      ]
    },
    {
      "cell_type": "code",
      "metadata": {
        "colab": {
          "base_uri": "https://localhost:8080/"
        },
        "id": "koohRkXssGOE",
        "outputId": "b1a99b1c-116a-4bf9-a005-9b60db0295fa"
      },
      "source": [
        "path, dirs, files = next(os.walk(main_path + 'Test/Test_Non_Georges/Non_Georges'))\r\n",
        "file_count = len(files)\r\n",
        "sum=0\r\n",
        "for pred in predT:\r\n",
        "  if pred[0] > 0.5:\r\n",
        "    sum+=1\r\n",
        "print(sum/file_count)\r\n",
        "\r\n",
        "#Проверим обученную модель на тестовых данных, где мы определяем Не Георгий ли на картинке"
      ],
      "execution_count": 56,
      "outputs": [
        {
          "output_type": "stream",
          "text": [
            "0.30526315789473685\n"
          ],
          "name": "stdout"
        }
      ]
    }
  ]
}
