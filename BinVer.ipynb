{
  "nbformat": 4,
  "nbformat_minor": 0,
  "metadata": {
    "kernelspec": {
      "display_name": "Python 3",
      "language": "python",
      "name": "python3"
    },
    "language_info": {
      "codemirror_mode": {
        "name": "ipython",
        "version": 3
      },
      "file_extension": ".py",
      "mimetype": "text/x-python",
      "name": "python",
      "nbconvert_exporter": "python",
      "pygments_lexer": "ipython3",
      "version": "3.8.3"
    },
    "colab": {
      "name": "BinVer.ipynb",
      "provenance": [],
      "collapsed_sections": []
    }
  },
  "cells": [
    {
      "cell_type": "code",
      "metadata": {
        "id": "fIlyKdmT8CLq",
        "colab": {
          "base_uri": "https://localhost:8080/"
        },
        "outputId": "8ad580b4-8bd2-448c-cbd0-3c372f2adce3"
      },
      "source": [
        "from google.colab import drive\r\n",
        "drive.mount('/content/drive')\r\n",
        "# !pip install --upgrade --force-reinstall `cat /content/gdrive/My\\ Drive/colab_installed.txt`\r\n",
        "\r\n",
        "#Подключение Google Drive, заккоментированная строка устанавливает (или обновляет) использованные библиотеки из файла .txt)"
      ],
      "execution_count": 2,
      "outputs": [
        {
          "output_type": "stream",
          "text": [
            "Drive already mounted at /content/drive; to attempt to forcibly remount, call drive.mount(\"/content/drive\", force_remount=True).\n"
          ],
          "name": "stdout"
        }
      ]
    },
    {
      "cell_type": "code",
      "metadata": {
        "id": "l4c1OnJpv_dU"
      },
      "source": [
        "# !pip freeze --local > /content/drive/MyDrive/colab_installed.txt # Записать все используемые библиотеки в текстовый файл"
      ],
      "execution_count": null,
      "outputs": []
    },
    {
      "cell_type": "code",
      "metadata": {
        "id": "6Vb3wt_oSHrB"
      },
      "source": [
        "import tensorflow as tf\n",
        "from tensorflow import keras\n",
        "from tensorflow.keras import layers\n",
        "import numpy as np\n",
        "from keras.models import Sequential, Model\n",
        "from keras.layers import Dense, Conv2D, Flatten, Activation, Dropout\n",
        "from keras import applications, optimizers\n",
        "import os\n",
        "import pandas as pd\n",
        "import os.path\n",
        "import random as rd\n",
        "import matplotlib.pyplot as plt\n"
      ],
      "execution_count": 1,
      "outputs": []
    },
    {
      "cell_type": "code",
      "metadata": {
        "id": "j_iw-4J8UHJI"
      },
      "source": [
        "import wget"
      ],
      "execution_count": null,
      "outputs": []
    },
    {
      "cell_type": "code",
      "metadata": {
        "id": "bgcUEqnrUmvc"
      },
      "source": [
        "main_path = './drive/MyDrive/ColabNotebooks/' # В данном месте нужно вписать абсолютный путь к проекту, я использовал Google Colab"
      ],
      "execution_count": 2,
      "outputs": []
    },
    {
      "cell_type": "code",
      "metadata": {
        "id": "6CcgQLazSHrJ"
      },
      "source": [
        "class Make_data: #Класс, который скачивает файлы по ссылкам из csv файла, удаляет повреждённые файлы, создаёт папки для Train, Validation и Test и разделяет данные по этим папкам\n",
        "\n",
        "  def __init__(self, main_path, folders, train_folder, testval_folder, classes, class_csv):\n",
        "    self.main_path = main_path\n",
        "    self.train_folder = train_folder\n",
        "    self.testval_folder = testval_folder\n",
        "    self.classes = classes \n",
        "    self.folders = folders\n",
        "    self.csv = class_csv\n",
        "                \n",
        "  def download_data(self):\n",
        "    for i in range(2):\n",
        "      data_class = pd.read_csv(self.main_path + self.csv[i],encoding='ascii', header=None)\n",
        "      for j in range(len(data_class)):\n",
        "        wget.download(data_class[0][j], self.main_path + self.train_folder + self.classes[i] + '/')\n",
        "\n",
        "  def make_dir(self):\n",
        "      for folders in self.folders:\n",
        "        for classe in self.classes:\n",
        "          if folders == 'Test/':\n",
        "            os.makedirs(self.main_path + folders + classe + '/' + classe)\n",
        "          else: \n",
        "            os.makedirs(self.main_path + folders + classe)\n",
        "\n",
        "  def divide_data(self):\n",
        "      for folder in self.testval_folder:\n",
        "        for classe in self.classes:\n",
        "          # print(folder + '111')\n",
        "          class_path = []\n",
        "          class_name = []\n",
        "          basepath = self.main_path + self.train_folder + classe\n",
        "          # print(basepath)\n",
        "          with os.scandir(basepath) as entries:\n",
        "            for entry in entries:\n",
        "                if entry.is_file():\n",
        "                    class_path.append(entry.path)\n",
        "                    class_name.append(entry.name)\n",
        "          rd.seed(1)\n",
        "          random_index = rd.sample(range(len(class_path)), int(len(class_path)*0.1))\n",
        "          for i in random_index:\n",
        "            if folder == 'Test/':\n",
        "              os.rename(class_path[i], self.main_path + folder + classe + '/' + classe + '/' + class_name[i])\n",
        "            else:  \n",
        "              os.rename(class_path[i], self.main_path + folder + classe + '/' + class_name[i])\n",
        " \n",
        "  def filter_data (self):\n",
        "      num_skipped = 0\n",
        "      for folder_name in self.classes:\n",
        "          folder_path = self.main_path + self.train_folder + folder_name\n",
        "          for fname in os.listdir(folder_path):\n",
        "              fpath = os.path.join(folder_path, fname)\n",
        "              if os.path.isfile(fpath):\n",
        "                  try:\n",
        "                      fobj = open(fpath, \"rb\")\n",
        "                      is_jfif = tf.compat.as_bytes(\"JFIF\") in fobj.peek(10)\n",
        "                  finally:\n",
        "                      fobj.close()\n",
        "\n",
        "                  if not is_jfif:\n",
        "                      num_skipped += 1\n",
        "                      os.remove(fpath)\n",
        "\n",
        "      print(\"Deleted %d images\" % num_skipped)\n",
        "\n",
        "    "
      ],
      "execution_count": 3,
      "outputs": []
    },
    {
      "cell_type": "code",
      "metadata": {
        "id": "TzjmdM8vSHrK"
      },
      "source": [
        "md = Make_data(main_path, ['Train/','Val/', 'Test/'], 'Train/', ['Val/', 'Test/'], ['Georges', 'Non_Georges'], ['georges.csv', 'non_georges.csv'])\r\n",
        "# md.make_dir()\r\n",
        "# md.download_data()\r\n",
        "# md.filter_data()\r\n",
        "md.divide_data()\r\n",
        "del md\r\n",
        "#Создаём класс, входные переменные оставляем такие же, после махинаций, класс удаляется"
      ],
      "execution_count": 5,
      "outputs": []
    },
    {
      "cell_type": "code",
      "metadata": {
        "id": "g0qBbd4ASHrN",
        "colab": {
          "base_uri": "https://localhost:8080/"
        },
        "outputId": "68c81666-ff19-4006-d121-4a44414115fe"
      },
      "source": [
        "image_size = (180, 180)\n",
        "batch_size = 32\n",
        "\n",
        "train_ds = tf.keras.preprocessing.image_dataset_from_directory(\n",
        "    main_path + \"Train\",\n",
        "    labels=\"inferred\",\n",
        "    class_names = [\"Georges\", \"Non_Georges\"],\n",
        "    validation_split=0.2,\n",
        "    subset=\"training\",\n",
        "    seed=1337,\n",
        "    image_size=image_size,\n",
        "    batch_size=batch_size,\n",
        ")\n",
        "val_ds = tf.keras.preprocessing.image_dataset_from_directory(\n",
        "    main_path + \"Val\",\n",
        "    labels=\"inferred\",\n",
        "    class_names = [\"Georges\", \"Non_Georges\"],\n",
        "    validation_split=0.4,\n",
        "    subset=\"validation\",\n",
        "    seed=1337,\n",
        "    image_size=image_size,\n",
        "    batch_size=batch_size,\n",
        ")\n",
        "\n",
        "#Создаём два объекта которые содержат в себе данные для обучения и валидации"
      ],
      "execution_count": 6,
      "outputs": [
        {
          "output_type": "stream",
          "text": [
            "Found 2325 files belonging to 2 classes.\n",
            "Using 1860 files for training.\n",
            "Found 286 files belonging to 2 classes.\n",
            "Using 114 files for validation.\n"
          ],
          "name": "stdout"
        }
      ]
    },
    {
      "cell_type": "code",
      "metadata": {
        "id": "Als6FJybSHrP"
      },
      "source": [
        "data_augmentation = keras.Sequential(\n",
        "    [\n",
        "        layers.experimental.preprocessing.RandomFlip(\"horizontal_and_vertical\", seed = 1337),\n",
        "        layers.experimental.preprocessing.RandomRotation(0.1, seed = 1337),\n",
        "        layers.experimental.preprocessing.Normalization(axis=-1)\n",
        "    ]\n",
        ")\n",
        "#Расширим датасет с помощью аугментации данных"
      ],
      "execution_count": 7,
      "outputs": []
    },
    {
      "cell_type": "code",
      "metadata": {
        "id": "dzmDL00USHrP"
      },
      "source": [
        "augmented_train_ds = train_ds.map(\n",
        "  lambda x, y: (data_augmentation(x, training=True), y))"
      ],
      "execution_count": 8,
      "outputs": []
    },
    {
      "cell_type": "code",
      "metadata": {
        "id": "hEWsn0y9SHrQ"
      },
      "source": [
        "AUTOTUNE = tf.data.AUTOTUNE\n",
        "train_ds = train_ds.shuffle(1000, 1337).prefetch(buffer_size=AUTOTUNE)\n",
        "val_ds = val_ds.prefetch(buffer_size=AUTOTUNE)\n",
        "#Используем предварительную выборку, где количество потребляем пакетов за один шаг обучения настраивается динамически"
      ],
      "execution_count": 9,
      "outputs": []
    },
    {
      "cell_type": "code",
      "metadata": {
        "id": "5_FpI46WSHrV"
      },
      "source": [
        "def make_model(input_shape, num_classes):\n",
        "    inputs = keras.Input(shape=input_shape)\n",
        "    \n",
        "    x = data_augmentation(inputs)\n",
        "\n",
        "    # Entry block\n",
        "    x = layers.experimental.preprocessing.Rescaling(1.0 / 255)(x)\n",
        "    x = layers.Conv2D(32, 3, strides=2, padding=\"same\")(x)\n",
        "    x = layers.BatchNormalization()(x)\n",
        "    x = layers.Activation(\"relu\")(x)\n",
        "\n",
        "    x = layers.Conv2D(64, 3, padding=\"same\")(x)\n",
        "    x = layers.BatchNormalization()(x)\n",
        "    x = layers.Activation(\"relu\")(x)\n",
        "\n",
        "    previous_block_activation = x  # Set aside residual\n",
        "\n",
        "    for size in [128, 256, 512, 728]:\n",
        "        x = layers.Activation(\"relu\")(x)\n",
        "        x = layers.SeparableConv2D(size, 3, padding=\"same\")(x)\n",
        "        x = layers.BatchNormalization()(x)\n",
        "\n",
        "        x = layers.Activation(\"relu\")(x)\n",
        "        x = layers.SeparableConv2D(size, 3, padding=\"same\")(x)\n",
        "        x = layers.BatchNormalization()(x)\n",
        "\n",
        "        x = layers.MaxPooling2D(3, strides=2, padding=\"same\")(x)\n",
        "\n",
        "        # Project residual\n",
        "        residual = layers.Conv2D(size, 1, strides=2, padding=\"same\")(\n",
        "            previous_block_activation\n",
        "        )\n",
        "        x = layers.add([x, residual])  # Add back residual\n",
        "        previous_block_activation = x  # Set aside next residual\n",
        "\n",
        "    x = layers.SeparableConv2D(1024, 3, padding=\"same\")(x)\n",
        "    x = layers.BatchNormalization()(x)\n",
        "    x = layers.Activation(\"relu\")(x)\n",
        "\n",
        "    x = layers.GlobalAveragePooling2D()(x)\n",
        "    activation = \"sigmoid\"\n",
        "    units = 1\n",
        "\n",
        "    tf.random.set_seed(1337)\n",
        "    x = layers.Dropout(0.5)(x)\n",
        "    outputs = layers.Dense(units, activation=activation)(x)\n",
        "    return keras.Model(inputs, outputs)\n",
        "\n",
        "\n",
        "model = make_model(input_shape=image_size + (3,), num_classes=2)\n",
        "\n",
        "#Строим модель"
      ],
      "execution_count": 10,
      "outputs": []
    },
    {
      "cell_type": "code",
      "metadata": {
        "id": "lnG7ZaJoSHrV",
        "colab": {
          "base_uri": "https://localhost:8080/"
        },
        "outputId": "678257a2-5bd6-49c4-ce71-6bca8b53bb38"
      },
      "source": [
        "epochs = 20\n",
        "\n",
        "callbacks = [\n",
        "    keras.callbacks.ModelCheckpoint(\"save_at_{epoch}.h5\"),\n",
        "]\n",
        "model.compile(\n",
        "    optimizer=keras.optimizers.Adam(1e-3),\n",
        "    loss=\"binary_crossentropy\",\n",
        "    metrics=[\"accuracy\"],\n",
        ")\n",
        "history = model.fit(\n",
        "    train_ds, epochs=epochs, callbacks=callbacks, validation_data=val_ds)\n",
        "model.save(main_path + 'Model')"
      ],
      "execution_count": 11,
      "outputs": [
        {
          "output_type": "stream",
          "text": [
            "Epoch 1/20\n",
            "59/59 [==============================] - 699s 7s/step - loss: 0.7509 - accuracy: 0.5786 - val_loss: 0.6642 - val_accuracy: 0.6404\n",
            "Epoch 2/20\n",
            "59/59 [==============================] - 427s 7s/step - loss: 0.6632 - accuracy: 0.6633 - val_loss: 0.6518 - val_accuracy: 0.6404\n",
            "Epoch 3/20\n",
            "59/59 [==============================] - 423s 7s/step - loss: 0.6326 - accuracy: 0.6769 - val_loss: 0.6684 - val_accuracy: 0.6404\n",
            "Epoch 4/20\n",
            "59/59 [==============================] - 425s 7s/step - loss: 0.6268 - accuracy: 0.6833 - val_loss: 0.6837 - val_accuracy: 0.6404\n",
            "Epoch 5/20\n",
            "59/59 [==============================] - 426s 7s/step - loss: 0.6017 - accuracy: 0.6939 - val_loss: 0.7202 - val_accuracy: 0.6404\n",
            "Epoch 6/20\n",
            "59/59 [==============================] - 429s 7s/step - loss: 0.6136 - accuracy: 0.6925 - val_loss: 0.7157 - val_accuracy: 0.6404\n",
            "Epoch 7/20\n",
            "59/59 [==============================] - 430s 7s/step - loss: 0.5712 - accuracy: 0.7174 - val_loss: 0.6823 - val_accuracy: 0.6404\n",
            "Epoch 8/20\n",
            "59/59 [==============================] - 429s 7s/step - loss: 0.5730 - accuracy: 0.7026 - val_loss: 0.6735 - val_accuracy: 0.6754\n",
            "Epoch 9/20\n",
            "59/59 [==============================] - 443s 7s/step - loss: 0.5902 - accuracy: 0.6946 - val_loss: 0.6784 - val_accuracy: 0.6404\n",
            "Epoch 10/20\n",
            "59/59 [==============================] - 449s 7s/step - loss: 0.5663 - accuracy: 0.6981 - val_loss: 0.5705 - val_accuracy: 0.7368\n",
            "Epoch 11/20\n",
            "59/59 [==============================] - 438s 7s/step - loss: 0.5288 - accuracy: 0.7389 - val_loss: 0.6420 - val_accuracy: 0.7193\n",
            "Epoch 12/20\n",
            "59/59 [==============================] - 431s 7s/step - loss: 0.5302 - accuracy: 0.7290 - val_loss: 0.6764 - val_accuracy: 0.7018\n",
            "Epoch 13/20\n",
            "59/59 [==============================] - 433s 7s/step - loss: 0.5431 - accuracy: 0.7125 - val_loss: 0.6544 - val_accuracy: 0.6579\n",
            "Epoch 14/20\n",
            "59/59 [==============================] - 433s 7s/step - loss: 0.5384 - accuracy: 0.7212 - val_loss: 0.5818 - val_accuracy: 0.7105\n",
            "Epoch 15/20\n",
            "59/59 [==============================] - 432s 7s/step - loss: 0.5290 - accuracy: 0.7358 - val_loss: 0.6622 - val_accuracy: 0.6930\n",
            "Epoch 16/20\n",
            "59/59 [==============================] - 434s 7s/step - loss: 0.5300 - accuracy: 0.7392 - val_loss: 0.5522 - val_accuracy: 0.7456\n",
            "Epoch 17/20\n",
            "59/59 [==============================] - 432s 7s/step - loss: 0.5197 - accuracy: 0.7341 - val_loss: 0.6429 - val_accuracy: 0.6842\n",
            "Epoch 18/20\n",
            "59/59 [==============================] - 432s 7s/step - loss: 0.5345 - accuracy: 0.7433 - val_loss: 0.5911 - val_accuracy: 0.7193\n",
            "Epoch 19/20\n",
            "59/59 [==============================] - 431s 7s/step - loss: 0.4874 - accuracy: 0.7629 - val_loss: 0.5527 - val_accuracy: 0.7105\n",
            "Epoch 20/20\n",
            "59/59 [==============================] - 432s 7s/step - loss: 0.5028 - accuracy: 0.7533 - val_loss: 0.5185 - val_accuracy: 0.7193\n",
            "INFO:tensorflow:Assets written to: ./drive/MyDrive/ColabNotebooks/Model/assets\n"
          ],
          "name": "stdout"
        }
      ]
    },
    {
      "cell_type": "code",
      "metadata": {
        "colab": {
          "base_uri": "https://localhost:8080/",
          "height": 499
        },
        "id": "lzh6GpZjlbRJ",
        "outputId": "baa1e11f-cb75-47bf-826c-d337a8407b50"
      },
      "source": [
        "acc = history.history['accuracy']\r\n",
        "val_acc = history.history['val_accuracy']\r\n",
        "\r\n",
        "loss = history.history['loss']\r\n",
        "val_loss = history.history['val_loss']\r\n",
        "\r\n",
        "epochs_range = range(epochs)\r\n",
        "\r\n",
        "plt.figure(figsize=(8, 8))\r\n",
        "plt.subplot(1, 2, 1)\r\n",
        "plt.plot(epochs_range, acc, label='Training Accuracy')\r\n",
        "plt.plot(epochs_range, val_acc, label='Validation Accuracy')\r\n",
        "plt.legend(loc='lower right')\r\n",
        "plt.title('Training and Validation Accuracy')\r\n",
        "\r\n",
        "plt.subplot(1, 2, 2)\r\n",
        "plt.plot(epochs_range, loss, label='Training Loss')\r\n",
        "plt.plot(epochs_range, val_loss, label='Validation Loss')\r\n",
        "plt.legend(loc='upper right')\r\n",
        "plt.title('Training and Validation Loss')\r\n",
        "plt.show()"
      ],
      "execution_count": 12,
      "outputs": [
        {
          "output_type": "display_data",
          "data": {
            "image/png": "[encoded data removed]",
            "text/plain": [
              "<Figure size 576x576 with 2 Axes>"
            ]
          },
          "metadata": {
            "tags": [],
            "needs_background": "light"
          }
        }
      ]
    },
    {
      "cell_type": "code",
      "metadata": {
        "id": "6N7PQRPnm0cN"
      },
      "source": [
        "# new_model = tf.keras.models.load_model(main_path + 'Model') #Загрузить сохранённую модель\r\n",
        "# loss, acc = new_model.evaluate(testGN, verbose=2)" 

      ],
      "execution_count": null,
      "outputs": []
    },
    {
      "cell_type": "code",
      "metadata": {
        "colab": {
          "base_uri": "https://localhost:8080/"
        },
        "id": "KXLFg4x5CSss",
        "outputId": "5f6e1b80-0337-403f-9b77-43646c1f2ae7"
      },
      "source": [
        "testT = tf.keras.preprocessing.image_dataset_from_directory(\r\n",
        "    main_path + \"Test/Georges/\",\r\n",
        "    labels=\"inferred\",\r\n",
        "    class_names = [\"Georges\"],\r\n",
        "    seed=1337,\r\n",
        "    image_size=image_size,\r\n",
        "    batch_size=batch_size,\r\n",
        ")\r\n",
        "\r\n",
        "# Создаём объект, содержащий только Георгиев"
      ],
      "execution_count": 22,
      "outputs": [
        {
          "output_type": "stream",
          "text": [
            "Found 113 files belonging to 1 classes.\n"
          ],
          "name": "stdout"
        }
      ]
    },
    {
      "cell_type": "code",
      "metadata": {
        "id": "LQdzY9ihC4Y9"
      },
      "source": [
        "predT = model.predict(testT)\r\n"
      ],
      "execution_count": 23,
      "outputs": []
    },
    {
      "cell_type": "code",
      "metadata": {
        "id": "X0GkxzqPbCUz"
      },
      "source": [
        "# predT"
      ],
      "execution_count": 38,
      "outputs": []
    },
    {
      "cell_type": "code",
      "metadata": {
        "colab": {
          "base_uri": "https://localhost:8080/"
        },
        "id": "P_YZF_Vytav6",
        "outputId": "89590b2c-cd81-4e56-e5e2-23133847be68"
      },
      "source": [
        "path, dirs, files = next(os.walk(main_path + 'Test/Georges/Georges'))\r\n",
        "file_count = len(files)\r\n",
        "sum=0\r\n",
        "for pred in predT:\r\n",
        "  if pred[0] < 0.6:\r\n",
        "    sum+=1\r\n",
        "print(sum/file_count)\r\n",
        "\r\n",
        "#Проверим точность обученной модели на тестовых данных, где мы определяем Георгий ли на картинке"
      ],
      "execution_count": 62,
      "outputs": [
        {
          "output_type": "stream",
          "text": [
            "0.4424778761061947\n"
          ],
          "name": "stdout"
        }
      ]
    },
    {
      "cell_type": "code",
      "metadata": {
        "colab": {
          "base_uri": "https://localhost:8080/"
        },
        "id": "BILwSsqvbWE8",
        "outputId": "91800802-9a19-458c-b01f-a3cfff79e39f"
      },
      "source": [
        "testN = tf.keras.preprocessing.image_dataset_from_directory(\r\n",
        "    main_path + \"Test/Non_Georges/\",\r\n",
        "    labels=\"inferred\",\r\n",
        "    class_names = [\"Non_Georges\"],\r\n",
        "    seed=1337,\r\n",
        "    image_size=image_size,\r\n",
        "    batch_size=batch_size,\r\n",
        ")\r\n",
        "\r\n",
        "# Создаём объект, содержащий только Не Георгиев"
      ],
      "execution_count": 25,
      "outputs": [
        {
          "output_type": "stream",
          "text": [
            "Found 145 files belonging to 1 classes.\n"
          ],
          "name": "stdout"
        }
      ]
    },
    {
      "cell_type": "code",
      "metadata": {
        "id": "VKzi3-WcbhQK"
      },
      "source": [
        "predN = model.predict(testN)\r\n"
      ],
      "execution_count": 26,
      "outputs": []
    },
    {
      "cell_type": "code",
      "metadata": {
        "id": "ItsEmCLrbjyq"
      },
      "source": [
        "# predN"
      ],
      "execution_count": 39,
      "outputs": []
    },
    {
      "cell_type": "code",
      "metadata": {
        "colab": {
          "base_uri": "https://localhost:8080/"
        },
        "id": "koohRkXssGOE",
        "outputId": "036c3b93-7f20-413c-d65d-86c9b24e9e5a"
      },
      "source": [
        "path, dirs, files = next(os.walk(main_path + 'Test/Non_Georges/Non_Georges'))\r\n",
        "file_count = len(files)\r\n",
        "sum=0\r\n",
        "for pred in predN:\r\n",
        "  if pred[0] > 0.6:\r\n",
        "    sum+=1\r\n",
        "print(sum/file_count)\r\n",
        "\r\n",
        "#Проверим точность обученной модели на тестовых данных, где мы определяем Не Георгий ли на картинке"
      ],
      "execution_count": 63,
      "outputs": [
        {
          "output_type": "stream",
          "text": [
            "0.9172413793103448\n"
          ],
          "name": "stdout"
        }
      ]
    },
    {
      "cell_type": "code",
      "metadata": {
        "colab": {
          "base_uri": "https://localhost:8080/"
        },
        "id": "F56HqYyBa8qo",
        "outputId": "377ecd60-c75d-466f-df07-b906e67d628d"
      },
      "source": [
        "testGN = tf.keras.preprocessing.image_dataset_from_directory(\r\n",
        "    main_path + \"Test/\",\r\n",
        "    labels=\"inferred\",\r\n",
        "    class_names = [\"Georges\", \"Non_Georges\"],\r\n",
        "    seed=1337,\r\n",
        "    image_size=image_size,\r\n",
        "    batch_size=batch_size,\r\n",
        ")\r\n",
        "\r\n",
        "# Создаём объект, содержащий Георгиев и Не Георгиев"
      ],
      "execution_count": 55,
      "outputs": [
        {
          "output_type": "stream",
          "text": [
            "Found 258 files belonging to 2 classes.\n"
          ],
          "name": "stdout"
        }
      ]
    },
    {
      "cell_type": "code",
      "metadata": {
        "id": "kd7LzEvwfKsT"
      },
      "source": [
        "def define(img):\r\n",
        "\r\n",
        "    # img = keras.preprocessing.image.load_img(path, target_size=image_size)\r\n",
        "    img_array = keras.preprocessing.image.img_to_array(img)\r\n",
        "    img_array = tf.expand_dims(img_array, 0)  # Create batch axis\r\n",
        "\r\n",
        "    predictions = model.predict(img_array)\r\n",
        "    score = predictions[0]\r\n",
        "    if score < 0.6:\r\n",
        "      return \"George\"\r\n",
        "    else:\r\n",
        "      return \"Non_George\""
      ],
      "execution_count": 59,
      "outputs": []
    },
    {
      "cell_type": "code",
      "metadata": {
        "id": "U1C2jXlyem0S"
      },
      "source": [
        "import matplotlib.pyplot as plt\r\n",
        "\r\n",
        "plt.figure(figsize=(10, 10))\r\n",
        "for images, labels in testGN.take(1):\r\n",
        "    for i in range(9):\r\n",
        "        ax = plt.subplot(3, 3, i + 1)\r\n",
        "        plt.imshow(images[i].numpy().astype(\"uint8\"))\r\n",
        "        plt.title(define(images[i]))\r\n",
        "        plt.axis(\"off\")\r\n",
        "\r\n",
        "\r\n",
        "#Запустить ячейку, чтобы посмотреть предсказания модели на тестовых данных"
      ],
      "execution_count": null,
      "outputs": []
    },
    {
      "cell_type": "code",
      "metadata": {
        "id": "UAjG-dKYfuOa"
      },
      "source": [
        ""
      ],
      "execution_count": null,
      "outputs": []
    }
  ]
}
